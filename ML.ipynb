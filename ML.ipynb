{
 "cells": [
  {
   "cell_type": "code",
   "execution_count": 71,
   "metadata": {},
   "outputs": [],
   "source": [
    "\n",
    "import pandas as pd\n",
    "import numpy as np\n",
    "import matplotlib.pyplot as plt\n",
    "import seaborn as sns\n",
    "\n",
    "# Lectura de los datasets y creación de los dataframes\n",
    "customers = pd.read_csv('./datasets_clean/customers.csv')\n",
    "order_items = pd.read_csv('./datasets_clean/order_items.csv')\n",
    "order_reviews = pd.read_csv('./datasets_clean/order_reviews.csv')\n",
    "orders_delivered = pd.read_csv('./datasets_clean/orders_delivered.csv')\n",
    "orders_No_delivered = pd.read_csv('./datasets_clean/orders_No_delivered.csv')\n",
    "products = pd.read_csv('./datasets_clean/products.csv')\n",
    "orders = pd.concat([orders_delivered,orders_No_delivered])"
   ]
  },
  {
   "cell_type": "code",
   "execution_count": 72,
   "metadata": {},
   "outputs": [
    {
     "name": "stderr",
     "output_type": "stream",
     "text": [
      "C:\\Users\\Danti\\AppData\\Local\\Temp\\ipykernel_7536\\4263604408.py:11: SettingWithCopyWarning: \n",
      "A value is trying to be set on a copy of a slice from a DataFrame\n",
      "\n",
      "See the caveats in the documentation: https://pandas.pydata.org/pandas-docs/stable/user_guide/indexing.html#returning-a-view-versus-a-copy\n",
      "  df.drop_duplicates(subset=['customer_unique_id','product_id'],keep='last',inplace=True)\n"
     ]
    }
   ],
   "source": [
    "#creo algunos datasets sinteticos que me serviran mas adelante\n",
    "df_inicial = pd.merge(customers,orders,on='customer_id')\n",
    "df_inicial = pd.merge(df_inicial,order_reviews, on='order_id')\n",
    "df_inicial = pd.merge(df_inicial,order_items, on='order_id')\n",
    "df_inicial = pd.merge(df_inicial,products, on='product_id')\n",
    "#df sera mi listado de productos y puntuaciones, desde el cual creare una matriz para comparar las similitudes\n",
    "df = df_inicial[['customer_unique_id', 'product_id', 'review_score','order_purchase_timestamp', 'product_category_name']]\n",
    "\n",
    "#un usuario puede haber comprado el mismo producto varias veces y dejado su reseña asi\n",
    "#que me aseguro que quede su ultima reseña, tambien puede haber comprado vairas veces el mismo producto en una sola compra\n",
    "df.drop_duplicates(subset=['customer_unique_id','product_id'],keep='last',inplace=True)\n",
    "#este dataset lo creo para luego comprobar si hay algun tipo de similitud aunque lo unico que tengo para comparar es\n",
    "#el tipo de producto y el precio\n",
    "df_test = df_inicial[['product_id','price']]\n",
    "df_test = pd.merge(df_test,products,on='product_id')\n",
    "df_test.drop_duplicates(subset='product_id',keep='last',inplace=True)"
   ]
  },
  {
   "cell_type": "code",
   "execution_count": 73,
   "metadata": {},
   "outputs": [
    {
     "data": {
      "text/plain": [
       "a9516a079e37a9c9c36b9b78b10169e8    1\n",
       "6be9d272e87bb43e70975434eaff3ea9    1\n",
       "26a6bbf34441794b135d4d4642eeece9    1\n",
       "f17ccf83f9deba389fc0a010257e949a    1\n",
       "62725a92101c725a6430182a7261416f    1\n",
       "3fa28edcc7cdfb0ba1d56e70e30ed893    1\n",
       "108fa3ef6742ead062d9ad59b471ce26    1\n",
       "6c8ddb5440080718b5110d82c7ae1faf    1\n",
       "631304377d9ae9aa0a4c1f21b571a502    1\n",
       "0eae0d3fd2fe4e667213525cd676c1fe    1\n",
       "b8fbd66f1621afeb9c510b4b9705a5b9    1\n",
       "00c744ca2f3b0e76ce227b146095d3f9    1\n",
       "6020b332bb4a8888917d4844eba70bbe    1\n",
       "fc276546b539ea9ad62827c2a5e2ae42    1\n",
       "c816e7f68945b875d70f82b82f7b0495    1\n",
       "0b035ff3ab8827ae8c56022c16712e9c    1\n",
       "b4546f52515517c7e25a51a13695c1f3    1\n",
       "8b50377e6ef3606c6e606ca0289d5f34    1\n",
       "37c871f73c08339b2ee4b6c03337837d    1\n",
       "faab97003f349e10524a71ed2c2f2bde    1\n",
       "116a8f521211c179741c051816f2b898    1\n",
       "f53c1d686fa4b8fe84636440f7a772da    1\n",
       "51b0fbc0001335d988588a43455a7514    1\n",
       "70cc46ccdfff951dd7829395bce256ca    1\n",
       "aae5bd5080ab78211526b58244f1be68    1\n",
       "8a8e4166f51f98d56dfe007218a11a0e    1\n",
       "6db02fce12f88341876dbb10e2c16d8a    1\n",
       "6a24f480cc3fa5ceba9b09eb6b2f46fd    1\n",
       "e3d56b75987accb32f776ba6c710913e    1\n",
       "67837a6bc3074b80f6fe8efc4740d37e    1\n",
       "Name: product_id, dtype: int64"
      ]
     },
     "execution_count": 73,
     "metadata": {},
     "output_type": "execute_result"
    }
   ],
   "source": [
    "df_test.product_id.value_counts()[:30]"
   ]
  },
  {
   "cell_type": "code",
   "execution_count": 74,
   "metadata": {},
   "outputs": [
    {
     "name": "stderr",
     "output_type": "stream",
     "text": [
      "C:\\Users\\Danti\\AppData\\Local\\Temp\\ipykernel_7536\\1297743115.py:6: SettingWithCopyWarning: \n",
      "A value is trying to be set on a copy of a slice from a DataFrame.\n",
      "Try using .loc[row_indexer,col_indexer] = value instead\n",
      "\n",
      "See the caveats in the documentation: https://pandas.pydata.org/pandas-docs/stable/user_guide/indexing.html#returning-a-view-versus-a-copy\n",
      "  df['customer_le'] = le.fit_transform(df.customer_unique_id)\n",
      "C:\\Users\\Danti\\AppData\\Local\\Temp\\ipykernel_7536\\1297743115.py:7: SettingWithCopyWarning: \n",
      "A value is trying to be set on a copy of a slice from a DataFrame.\n",
      "Try using .loc[row_indexer,col_indexer] = value instead\n",
      "\n",
      "See the caveats in the documentation: https://pandas.pydata.org/pandas-docs/stable/user_guide/indexing.html#returning-a-view-versus-a-copy\n",
      "  df['product_le'] = le.fit_transform(df.product_id)\n"
     ]
    }
   ],
   "source": [
    "from sklearn.preprocessing import LabelEncoder\n",
    "from scipy.sparse import csr_matrix\n",
    "from sklearn.neighbors import NearestNeighbors\n",
    "le = LabelEncoder()\n",
    "\n",
    "df['customer_le'] = le.fit_transform(df.customer_unique_id)\n",
    "df['product_le'] = le.fit_transform(df.product_id)\n",
    "df_test['product_le'] = le.fit_transform(df_test.product_id)\n",
    "#reordeno el dataset para ver los ids al principio\n",
    "df_test = df_test.iloc[:,[10,0,1,2,3,4,5,6,7,8,9]]\n",
    "df_trasform_producto = df[['product_le','product_id']].drop_duplicates()\n",
    "products_dicc = dict(zip(df['product_le'].drop_duplicates(),df['product_id'].drop_duplicates()))\n",
    "N = df['customer_le'].unique().shape[0]\n",
    "M = df['product_le'].unique().shape[0]\n",
    "#creo una matriz que contiene todas las opiniones de todos los productos por todos los custemers, a partir\n",
    "#de esto entrenare a mi modelo para que analise similitudes entre los vectores\n",
    "X = csr_matrix((df[\"review_score\"].values, (df['product_le'].values, df['customer_le'].values)),shape=(M,N))"
   ]
  },
  {
   "cell_type": "code",
   "execution_count": 75,
   "metadata": {},
   "outputs": [
    {
     "data": {
      "text/html": [
       "<style>#sk-container-id-4 {color: black;background-color: white;}#sk-container-id-4 pre{padding: 0;}#sk-container-id-4 div.sk-toggleable {background-color: white;}#sk-container-id-4 label.sk-toggleable__label {cursor: pointer;display: block;width: 100%;margin-bottom: 0;padding: 0.3em;box-sizing: border-box;text-align: center;}#sk-container-id-4 label.sk-toggleable__label-arrow:before {content: \"▸\";float: left;margin-right: 0.25em;color: #696969;}#sk-container-id-4 label.sk-toggleable__label-arrow:hover:before {color: black;}#sk-container-id-4 div.sk-estimator:hover label.sk-toggleable__label-arrow:before {color: black;}#sk-container-id-4 div.sk-toggleable__content {max-height: 0;max-width: 0;overflow: hidden;text-align: left;background-color: #f0f8ff;}#sk-container-id-4 div.sk-toggleable__content pre {margin: 0.2em;color: black;border-radius: 0.25em;background-color: #f0f8ff;}#sk-container-id-4 input.sk-toggleable__control:checked~div.sk-toggleable__content {max-height: 200px;max-width: 100%;overflow: auto;}#sk-container-id-4 input.sk-toggleable__control:checked~label.sk-toggleable__label-arrow:before {content: \"▾\";}#sk-container-id-4 div.sk-estimator input.sk-toggleable__control:checked~label.sk-toggleable__label {background-color: #d4ebff;}#sk-container-id-4 div.sk-label input.sk-toggleable__control:checked~label.sk-toggleable__label {background-color: #d4ebff;}#sk-container-id-4 input.sk-hidden--visually {border: 0;clip: rect(1px 1px 1px 1px);clip: rect(1px, 1px, 1px, 1px);height: 1px;margin: -1px;overflow: hidden;padding: 0;position: absolute;width: 1px;}#sk-container-id-4 div.sk-estimator {font-family: monospace;background-color: #f0f8ff;border: 1px dotted black;border-radius: 0.25em;box-sizing: border-box;margin-bottom: 0.5em;}#sk-container-id-4 div.sk-estimator:hover {background-color: #d4ebff;}#sk-container-id-4 div.sk-parallel-item::after {content: \"\";width: 100%;border-bottom: 1px solid gray;flex-grow: 1;}#sk-container-id-4 div.sk-label:hover label.sk-toggleable__label {background-color: #d4ebff;}#sk-container-id-4 div.sk-serial::before {content: \"\";position: absolute;border-left: 1px solid gray;box-sizing: border-box;top: 0;bottom: 0;left: 50%;z-index: 0;}#sk-container-id-4 div.sk-serial {display: flex;flex-direction: column;align-items: center;background-color: white;padding-right: 0.2em;padding-left: 0.2em;position: relative;}#sk-container-id-4 div.sk-item {position: relative;z-index: 1;}#sk-container-id-4 div.sk-parallel {display: flex;align-items: stretch;justify-content: center;background-color: white;position: relative;}#sk-container-id-4 div.sk-item::before, #sk-container-id-4 div.sk-parallel-item::before {content: \"\";position: absolute;border-left: 1px solid gray;box-sizing: border-box;top: 0;bottom: 0;left: 50%;z-index: -1;}#sk-container-id-4 div.sk-parallel-item {display: flex;flex-direction: column;z-index: 1;position: relative;background-color: white;}#sk-container-id-4 div.sk-parallel-item:first-child::after {align-self: flex-end;width: 50%;}#sk-container-id-4 div.sk-parallel-item:last-child::after {align-self: flex-start;width: 50%;}#sk-container-id-4 div.sk-parallel-item:only-child::after {width: 0;}#sk-container-id-4 div.sk-dashed-wrapped {border: 1px dashed gray;margin: 0 0.4em 0.5em 0.4em;box-sizing: border-box;padding-bottom: 0.4em;background-color: white;}#sk-container-id-4 div.sk-label label {font-family: monospace;font-weight: bold;display: inline-block;line-height: 1.2em;}#sk-container-id-4 div.sk-label-container {text-align: center;}#sk-container-id-4 div.sk-container {/* jupyter's `normalize.less` sets `[hidden] { display: none; }` but bootstrap.min.css set `[hidden] { display: none !important; }` so we also need the `!important` here to be able to override the default hidden behavior on the sphinx rendered scikit-learn.org. See: https://github.com/scikit-learn/scikit-learn/issues/21755 */display: inline-block !important;position: relative;}#sk-container-id-4 div.sk-text-repr-fallback {display: none;}</style><div id=\"sk-container-id-4\" class=\"sk-top-container\"><div class=\"sk-text-repr-fallback\"><pre>NearestNeighbors(algorithm=&#x27;brute&#x27;, metric=&#x27;cosine&#x27;, n_neighbors=10)</pre><b>In a Jupyter environment, please rerun this cell to show the HTML representation or trust the notebook. <br />On GitHub, the HTML representation is unable to render, please try loading this page with nbviewer.org.</b></div><div class=\"sk-container\" hidden><div class=\"sk-item\"><div class=\"sk-estimator sk-toggleable\"><input class=\"sk-toggleable__control sk-hidden--visually\" id=\"sk-estimator-id-4\" type=\"checkbox\" checked><label for=\"sk-estimator-id-4\" class=\"sk-toggleable__label sk-toggleable__label-arrow\">NearestNeighbors</label><div class=\"sk-toggleable__content\"><pre>NearestNeighbors(algorithm=&#x27;brute&#x27;, metric=&#x27;cosine&#x27;, n_neighbors=10)</pre></div></div></div></div></div>"
      ],
      "text/plain": [
       "NearestNeighbors(algorithm='brute', metric='cosine', n_neighbors=10)"
      ]
     },
     "execution_count": 75,
     "metadata": {},
     "output_type": "execute_result"
    }
   ],
   "source": [
    "\n",
    "KNN = NearestNeighbors(n_neighbors=10,algorithm='brute',metric='cosine')\n",
    "KNN.fit(X)"
   ]
  },
  {
   "cell_type": "code",
   "execution_count": 76,
   "metadata": {},
   "outputs": [],
   "source": [
    "def find_similar_products(product_id,matrix,k):\n",
    "    '''\n",
    "    se le proporciona el id de un producto y te devuelve un listado de productos similares incluyendo el mismo,\n",
    "    la metrica predeterminada es cosine\n",
    "    '''\n",
    "    neighbours_ids= []\n",
    "    \n",
    "    product_vector = X[product_id]\n",
    "    if product_vector.size > 0:\n",
    "        neighbours = KNN.kneighbors(product_vector, return_distance = True)\n",
    "        for i in range(1,k+1):\n",
    "            if neighbours[0].item(i) < 0.35:\n",
    "                neighbours_ids.append(neighbours[1].item(i))\n",
    "            \n",
    "        if len(neighbours_ids) > 0:\n",
    "            return neighbours_ids\n",
    "    return \"no hay conincidencias\""
   ]
  },
  {
   "cell_type": "code",
   "execution_count": 80,
   "metadata": {},
   "outputs": [],
   "source": [
    "df_show = df_test.iloc[:5000].loc[df_test.iloc[:5000].product_le.apply(lambda row : find_similar_products(row,X,1) != \"no hay conincidencias\")]"
   ]
  },
  {
   "cell_type": "code",
   "execution_count": 81,
   "metadata": {},
   "outputs": [],
   "source": [
    "#creo datasets ya listos para usar asi no tarda mucho en cargar la pagina de streamlit\n",
    "df_show.to_csv('./datasets_streamlit/df_show.csv',index = False)\n",
    "df.to_csv('./datasets_streamlit/df.csv',index = False)\n",
    "df_test.to_csv('./datasets_streamlit/df_test.csv',index = False)"
   ]
  }
 ],
 "metadata": {
  "kernelspec": {
   "display_name": "Python 3",
   "language": "python",
   "name": "python3"
  },
  "language_info": {
   "codemirror_mode": {
    "name": "ipython",
    "version": 3
   },
   "file_extension": ".py",
   "mimetype": "text/x-python",
   "name": "python",
   "nbconvert_exporter": "python",
   "pygments_lexer": "ipython3",
   "version": "3.11.1 (tags/v3.11.1:a7a450f, Dec  6 2022, 19:58:39) [MSC v.1934 64 bit (AMD64)]"
  },
  "orig_nbformat": 4,
  "vscode": {
   "interpreter": {
    "hash": "edbfa1ce795971eeaab42ac56244ea091951c4ae0be232b4e741a09e6d7d4b3e"
   }
  }
 },
 "nbformat": 4,
 "nbformat_minor": 2
}
